{
 "cells": [
  {
   "cell_type": "markdown",
   "id": "0b4ff893-a1e8-4818-bfbe-39b598033890",
   "metadata": {},
   "source": [
    "# MAS-12 lecture code\n",
    "---\n",
    "\n",
    "## Chapter 12   Classification"
   ]
  },
  {
   "cell_type": "code",
   "execution_count": 63,
   "id": "e04334cc-46d9-43b3-91f9-f9fe21e2845f",
   "metadata": {},
   "outputs": [
    {
     "name": "stdout",
     "output_type": "stream",
     "text": [
      "   sepal length (cm)  sepal width (cm)  petal length (cm)  petal width (cm)\n",
      "0                5.1               3.5                1.4               0.2\n",
      "1                4.9               3.0                1.4               0.2\n",
      "2                4.7               3.2                1.3               0.2\n",
      "3                4.6               3.1                1.5               0.2\n",
      "4                5.0               3.6                1.4               0.2 \n",
      "\n",
      " 0    s\n",
      "1    s\n",
      "2    s\n",
      "3    s\n",
      "4    s\n",
      "dtype: object\n"
     ]
    }
   ],
   "source": [
    "import pandas as pd\n",
    "import numpy as np\n",
    "import matplotlib.pyplot as plt\n",
    "%matplotlib inline\n",
    "\n",
    "from sklearn.datasets import load_iris\n",
    "iris = load_iris()\n",
    "\n",
    "#print(iris)\n",
    "#print(iris.DESCR,'\\n')\n",
    "#print(iris.data,'\\n')\n",
    "#print(iris.feature_names,'\\n')\n",
    "#print(iris.target,'\\n')\n",
    "#print(iris.target_names,'\\n')\n",
    "\n",
    "ir = pd.DataFrame(data=iris.data, columns=iris.feature_names)\n",
    "ir_species = pd.Series(iris.target)\n",
    "ir_species = ir_species.map({0:\"s\", 1:\"c\", 2:\"v\"})\n",
    "print(ir.head(),'\\n\\n',ir_species.head())"
   ]
  },
  {
   "cell_type": "markdown",
   "id": "2b355227-3afb-44b8-9988-f784443b2443",
   "metadata": {},
   "source": [
    "## 12.1  Discriminant Analysis"
   ]
  },
  {
   "cell_type": "code",
   "execution_count": 84,
   "id": "cb008bdb-437d-429c-8aad-569d52d64d5d",
   "metadata": {},
   "outputs": [
    {
     "data": {
      "image/png": "[encoded data removed]",
      "text/plain": [
       "<Figure size 432x288 with 1 Axes>"
      ]
     },
     "metadata": {
      "needs_background": "light"
     },
     "output_type": "display_data"
    }
   ],
   "source": [
    "from sklearn.discriminant_analysis import LinearDiscriminantAnalysis as LDA\n",
    "from sklearn.preprocessing import StandardScaler\n",
    "\n",
    "ir_lda=LDA().fit(np.log(ir),ir_species)\n",
    "ir_ld=ir_lda.transform(np.log(ir))\n",
    "ir_ld[:,0]=-ir_ld[:,0]\n",
    "#print(ir_ld)\n",
    "\n",
    "lda_columns=['LD1','LD2']\n",
    "ir_ld = pd.DataFrame(ir_ld, columns=lda_columns)\n",
    "#ir_ld['target']=iris.target\n",
    "#print(ir_ld.iloc[0,:])\n",
    "\n",
    "markers=['$s$', '$c$', '$v$']\n",
    "\n",
    "for i, marker in enumerate(markers):\n",
    "    x_axis_data = ir_ld.loc[iris.target==i,:]['LD1']\n",
    "    y_axis_data = ir_ld.loc[iris.target==i,:]['LD2']\n",
    "\n",
    "    plt.scatter(x_axis_data, y_axis_data, marker=marker,label=iris.target_names[i])\n",
    "\n",
    "plt.legend(loc='upper right')\n",
    "plt.xlabel('first linear discriminant')\n",
    "plt.ylabel('second linear discriminant')\n",
    "plt.show()"
   ]
  },
  {
   "cell_type": "code",
   "execution_count": null,
   "id": "9e561bba-93a5-4770-b17a-c531e22d9cee",
   "metadata": {},
   "outputs": [],
   "source": []
  },
  {
   "cell_type": "code",
   "execution_count": null,
   "id": "7d1e36bb-596c-4ff5-873f-aef40fa9ca12",
   "metadata": {},
   "outputs": [],
   "source": []
  },
  {
   "cell_type": "code",
   "execution_count": null,
   "id": "2b940177-b0ab-4e54-a276-f856f8bf87aa",
   "metadata": {},
   "outputs": [],
   "source": []
  },
  {
   "cell_type": "code",
   "execution_count": null,
   "id": "6b8c8c7b-ff88-445f-8468-1091adbe027a",
   "metadata": {},
   "outputs": [],
   "source": []
  },
  {
   "cell_type": "code",
   "execution_count": null,
   "id": "14ac20f1-8266-47c3-9583-3f42ded49af3",
   "metadata": {},
   "outputs": [],
   "source": []
  },
  {
   "cell_type": "markdown",
   "id": "0be6c4d4-4b3e-4f3a-8a89-3181b19e1ae7",
   "metadata": {},
   "source": [
    "## 12.2  Classification theory"
   ]
  },
  {
   "cell_type": "code",
   "execution_count": null,
   "id": "489215fe-dee6-49ab-a9d0-405375cba7ee",
   "metadata": {},
   "outputs": [],
   "source": []
  },
  {
   "cell_type": "code",
   "execution_count": null,
   "id": "58e8a535-19a6-4718-90ae-6ab0ac05e663",
   "metadata": {},
   "outputs": [],
   "source": []
  },
  {
   "cell_type": "code",
   "execution_count": null,
   "id": "42724835-d984-4d04-9345-9dc7360d8c95",
   "metadata": {},
   "outputs": [],
   "source": []
  },
  {
   "cell_type": "markdown",
   "id": "f88dac2f-6087-4a02-87af-9bf2f090b555",
   "metadata": {},
   "source": [
    "## 12.3  Non-parametric rules"
   ]
  },
  {
   "cell_type": "code",
   "execution_count": null,
   "id": "4192bdd9-62c0-4c7b-b55a-e98d7688d2cf",
   "metadata": {},
   "outputs": [],
   "source": []
  },
  {
   "cell_type": "code",
   "execution_count": null,
   "id": "9e8a2587-47b5-4c42-8bd7-7401e037359f",
   "metadata": {},
   "outputs": [],
   "source": []
  },
  {
   "cell_type": "markdown",
   "id": "a1603979-fdef-4174-bcf5-d5edb509667c",
   "metadata": {},
   "source": [
    "## 12.4  Neural networks"
   ]
  },
  {
   "cell_type": "code",
   "execution_count": null,
   "id": "a8bc234a-32b4-4eb2-a8ce-1f2820b543cc",
   "metadata": {},
   "outputs": [],
   "source": []
  },
  {
   "cell_type": "code",
   "execution_count": null,
   "id": "86c9b629-aace-4c4a-90e9-92f5620b7d8a",
   "metadata": {},
   "outputs": [],
   "source": []
  },
  {
   "cell_type": "code",
   "execution_count": null,
   "id": "def2a2a1-fffa-44f5-b176-198cb467b828",
   "metadata": {},
   "outputs": [],
   "source": []
  },
  {
   "cell_type": "code",
   "execution_count": null,
   "id": "96d8b783-738d-432d-b050-070b2d49af00",
   "metadata": {},
   "outputs": [],
   "source": []
  },
  {
   "cell_type": "code",
   "execution_count": null,
   "id": "4738343b-0795-4216-9dc5-2153d53a6a14",
   "metadata": {},
   "outputs": [],
   "source": []
  },
  {
   "cell_type": "code",
   "execution_count": null,
   "id": "76883841-af39-44dc-8286-e910f46a4e22",
   "metadata": {},
   "outputs": [],
   "source": []
  },
  {
   "cell_type": "code",
   "execution_count": null,
   "id": "88799f1a-04c0-49a1-aa88-458724463509",
   "metadata": {},
   "outputs": [],
   "source": []
  },
  {
   "cell_type": "code",
   "execution_count": null,
   "id": "b26e6aa9-542f-481f-9a19-a063ca336ccb",
   "metadata": {},
   "outputs": [],
   "source": []
  },
  {
   "cell_type": "code",
   "execution_count": null,
   "id": "8abcb244-b94b-48d3-9e45-16e2fc9a34ca",
   "metadata": {},
   "outputs": [],
   "source": []
  },
  {
   "cell_type": "code",
   "execution_count": null,
   "id": "95f8198f-1ce7-49cc-8c6f-0bd5eca32c96",
   "metadata": {},
   "outputs": [],
   "source": []
  },
  {
   "cell_type": "markdown",
   "id": "776aff14-35aa-496b-8747-a0beab07ce4a",
   "metadata": {},
   "source": [
    "## 12.5  Support vector machines"
   ]
  },
  {
   "cell_type": "code",
   "execution_count": null,
   "id": "5c26cd11-7dd8-470a-92fc-78e7e8e5e4d9",
   "metadata": {},
   "outputs": [],
   "source": []
  },
  {
   "cell_type": "markdown",
   "id": "a9a382ef-ccac-4306-8115-0a20860b972e",
   "metadata": {},
   "source": [
    "## 12.6  Forensic glass example"
   ]
  },
  {
   "cell_type": "code",
   "execution_count": null,
   "id": "a09b1980-9dd5-4668-a314-3e444ec2d7b6",
   "metadata": {},
   "outputs": [],
   "source": []
  },
  {
   "cell_type": "code",
   "execution_count": null,
   "id": "b77247d9-b761-4848-9f0e-99769cd94158",
   "metadata": {},
   "outputs": [],
   "source": []
  },
  {
   "cell_type": "code",
   "execution_count": null,
   "id": "9aa37777-f571-4f75-8f68-dbe74f768515",
   "metadata": {},
   "outputs": [],
   "source": []
  },
  {
   "cell_type": "code",
   "execution_count": null,
   "id": "708dbea4-0433-4e47-9d50-473935e3fb04",
   "metadata": {},
   "outputs": [],
   "source": []
  },
  {
   "cell_type": "code",
   "execution_count": null,
   "id": "0ed581ee-2009-4f3a-8397-4fc8b374d8bc",
   "metadata": {},
   "outputs": [],
   "source": []
  },
  {
   "cell_type": "code",
   "execution_count": null,
   "id": "8ecefcf7-bd29-4267-97aa-f88207881910",
   "metadata": {},
   "outputs": [],
   "source": []
  },
  {
   "cell_type": "code",
   "execution_count": null,
   "id": "c66439ce-763e-47b1-8a1e-efbca5f2c81b",
   "metadata": {},
   "outputs": [],
   "source": []
  },
  {
   "cell_type": "code",
   "execution_count": null,
   "id": "91bd663b-489f-4566-ae46-bd7a8c876716",
   "metadata": {},
   "outputs": [],
   "source": []
  },
  {
   "cell_type": "code",
   "execution_count": null,
   "id": "da5d5154-15ef-4f0b-9674-1b02fb5aa152",
   "metadata": {},
   "outputs": [],
   "source": []
  },
  {
   "cell_type": "code",
   "execution_count": null,
   "id": "70a3bdb2-a4d7-4167-81ba-9a14adffd647",
   "metadata": {},
   "outputs": [],
   "source": []
  },
  {
   "cell_type": "code",
   "execution_count": null,
   "id": "af497beb-2bca-409f-a9b6-58b7aff34e08",
   "metadata": {},
   "outputs": [],
   "source": []
  },
  {
   "cell_type": "code",
   "execution_count": null,
   "id": "c77d7e75-2aa9-4e69-899e-f9a0bf49dc53",
   "metadata": {},
   "outputs": [],
   "source": []
  },
  {
   "cell_type": "code",
   "execution_count": null,
   "id": "b955b9bd-1f17-48ce-b8a9-c0df63a13a72",
   "metadata": {},
   "outputs": [],
   "source": []
  },
  {
   "cell_type": "markdown",
   "id": "43ef81eb-e68b-4283-afd7-a0333ad3a326",
   "metadata": {},
   "source": [
    "## 12.7  Calibration plots"
   ]
  },
  {
   "cell_type": "code",
   "execution_count": null,
   "id": "55958dae-601f-4741-91f6-50c0acd10fb8",
   "metadata": {},
   "outputs": [],
   "source": []
  },
  {
   "cell_type": "code",
   "execution_count": null,
   "id": "0c19fe77-dd79-435b-bdfa-3f02df5bf3d2",
   "metadata": {},
   "outputs": [],
   "source": []
  },
  {
   "cell_type": "code",
   "execution_count": null,
   "id": "1e94fcc9-08ee-40bd-b336-5087dc244fc8",
   "metadata": {},
   "outputs": [],
   "source": []
  }
 ],
 "metadata": {
  "kernelspec": {
   "display_name": "Python 3 (ipykernel)",
   "language": "python",
   "name": "python3"
  },
  "language_info": {
   "codemirror_mode": {
    "name": "ipython",
    "version": 3
   },
   "file_extension": ".py",
   "mimetype": "text/x-python",
   "name": "python",
   "nbconvert_exporter": "python",
   "pygments_lexer": "ipython3",
   "version": "3.9.12"
  }
 },
 "nbformat": 4,
 "nbformat_minor": 5
}
